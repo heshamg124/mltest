{
 "metadata": {
  "language_info": {
   "codemirror_mode": {
    "name": "ipython",
    "version": 3
   },
   "file_extension": ".py",
   "mimetype": "text/x-python",
   "name": "python",
   "nbconvert_exporter": "python",
   "pygments_lexer": "ipython3",
   "version": "3.7.7-final"
  },
  "orig_nbformat": 2,
  "kernelspec": {
   "name": "python_defaultSpec_1599386065727",
   "display_name": "Python 3.7.7 64-bit ('mlenv': conda)"
  }
 },
 "nbformat": 4,
 "nbformat_minor": 2,
 "cells": [
  {
   "cell_type": "markdown",
   "metadata": {},
   "source": [
    "# Iris data Softmax with Early stopping\n",
    "\n",
    "## Initialize"
   ]
  },
  {
   "cell_type": "code",
   "execution_count": 117,
   "metadata": {},
   "outputs": [],
   "source": [
    "# Common imports\n",
    "import numpy as np\n",
    "import os\n",
    "\n",
    "# to make this notebook's output stable across runs\n",
    "np.random.seed(2042)\n",
    "\n",
    "# To plot pretty figures\n",
    "%matplotlib inline\n",
    "import matplotlib as mpl\n",
    "import matplotlib.pyplot as plt\n",
    "\n",
    "# Where to save the figures\n",
    "PROJECT_ROOT_DIR = \".\"\n",
    "IMAGES_PATH = os.path.join(PROJECT_ROOT_DIR, \"images\")\n",
    "os.makedirs(IMAGES_PATH, exist_ok=True)\n"
   ]
  },
  {
   "cell_type": "markdown",
   "metadata": {},
   "source": [
    "## Fetch Data"
   ]
  },
  {
   "cell_type": "code",
   "execution_count": 118,
   "metadata": {},
   "outputs": [
    {
     "output_type": "execute_result",
     "data": {
      "text/plain": "['data',\n 'target',\n 'frame',\n 'target_names',\n 'DESCR',\n 'feature_names',\n 'filename']"
     },
     "metadata": {},
     "execution_count": 118
    }
   ],
   "source": [
    "# Fetch spam data\n",
    "\n",
    "from sklearn import datasets\n",
    "iris = datasets.load_iris()\n",
    "list(iris.keys())"
   ]
  },
  {
   "cell_type": "code",
   "execution_count": 119,
   "metadata": {
    "tags": []
   },
   "outputs": [
    {
     "output_type": "stream",
     "name": "stdout",
     "text": ".. _iris_dataset:\n\nIris plants dataset\n--------------------\n\n**Data Set Characteristics:**\n\n    :Number of Instances: 150 (50 in each of three classes)\n    :Number of Attributes: 4 numeric, predictive attributes and the class\n    :Attribute Information:\n        - sepal length in cm\n        - sepal width in cm\n        - petal length in cm\n        - petal width in cm\n        - class:\n                - Iris-Setosa\n                - Iris-Versicolour\n                - Iris-Virginica\n                \n    :Summary Statistics:\n\n    ============== ==== ==== ======= ===== ====================\n                    Min  Max   Mean    SD   Class Correlation\n    ============== ==== ==== ======= ===== ====================\n    sepal length:   4.3  7.9   5.84   0.83    0.7826\n    sepal width:    2.0  4.4   3.05   0.43   -0.4194\n    petal length:   1.0  6.9   3.76   1.76    0.9490  (high!)\n    petal width:    0.1  2.5   1.20   0.76    0.9565  (high!)\n    ============== ==== ==== ======= ===== ====================\n\n    :Missing Attribute Values: None\n    :Class Distribution: 33.3% for each of 3 classes.\n    :Creator: R.A. Fisher\n    :Donor: Michael Marshall (MARSHALL%PLU@io.arc.nasa.gov)\n    :Date: July, 1988\n\nThe famous Iris database, first used by Sir R.A. Fisher. The dataset is taken\nfrom Fisher's paper. Note that it's the same as in R, but not as in the UCI\nMachine Learning Repository, which has two wrong data points.\n\nThis is perhaps the best known database to be found in the\npattern recognition literature.  Fisher's paper is a classic in the field and\nis referenced frequently to this day.  (See Duda & Hart, for example.)  The\ndata set contains 3 classes of 50 instances each, where each class refers to a\ntype of iris plant.  One class is linearly separable from the other 2; the\nlatter are NOT linearly separable from each other.\n\n.. topic:: References\n\n   - Fisher, R.A. \"The use of multiple measurements in taxonomic problems\"\n     Annual Eugenics, 7, Part II, 179-188 (1936); also in \"Contributions to\n     Mathematical Statistics\" (John Wiley, NY, 1950).\n   - Duda, R.O., & Hart, P.E. (1973) Pattern Classification and Scene Analysis.\n     (Q327.D83) John Wiley & Sons.  ISBN 0-471-22361-1.  See page 218.\n   - Dasarathy, B.V. (1980) \"Nosing Around the Neighborhood: A New System\n     Structure and Classification Rule for Recognition in Partially Exposed\n     Environments\".  IEEE Transactions on Pattern Analysis and Machine\n     Intelligence, Vol. PAMI-2, No. 1, 67-71.\n   - Gates, G.W. (1972) \"The Reduced Nearest Neighbor Rule\".  IEEE Transactions\n     on Information Theory, May 1972, 431-433.\n   - See also: 1988 MLC Proceedings, 54-64.  Cheeseman et al\"s AUTOCLASS II\n     conceptual clustering system finds 3 classes in the data.\n   - Many, many more ...\n"
    }
   ],
   "source": [
    "print(iris.DESCR)"
   ]
  },
  {
   "cell_type": "markdown",
   "metadata": {},
   "source": [
    "## Prepare Data"
   ]
  },
  {
   "cell_type": "code",
   "execution_count": 120,
   "metadata": {},
   "outputs": [],
   "source": [
    "X = iris[\"data\"][:, (2, 3)]  # petal length, petal width\n",
    "y = iris[\"target\"]"
   ]
  },
  {
   "cell_type": "code",
   "execution_count": 121,
   "metadata": {},
   "outputs": [],
   "source": [
    "#add the bias term for every instance (X0 = 1)\n",
    "X_with_bias = np.c_[np.ones([len(X), 1]), X]\n"
   ]
  },
  {
   "cell_type": "code",
   "execution_count": 122,
   "metadata": {},
   "outputs": [],
   "source": [
    "#convert y to one_hot vector\n",
    "def to_one_hot(y_input):\n",
    "    n_classes = y_input.max() + 1\n",
    "    m = len(y_input)\n",
    "    Y_one_hot = np.zeros((m, n_classes))\n",
    "    Y_one_hot[np.arange(m), y_input] = 1\n",
    "    return Y_one_hot"
   ]
  },
  {
   "cell_type": "code",
   "execution_count": 123,
   "metadata": {},
   "outputs": [],
   "source": [
    "def split_manual(X_input, y_input, validation_ratio, test_ratio):\n",
    "    total_size = len(X_input)\n",
    "    test_size = int(total_size * test_ratio)\n",
    "    validation_size = int(total_size * validation_ratio)\n",
    "    train_size = total_size - test_size - validation_size\n",
    "\n",
    "    rnd_indices = np.random.permutation(total_size)\n",
    "    X_train = X_input[rnd_indices[:train_size]]\n",
    "    X_valid = X_input[rnd_indices[train_size:-test_size]]\n",
    "    X_test = X_input[rnd_indices[-test_size:]]\n",
    "\n",
    "    y_train = y_input[rnd_indices[:train_size]]\n",
    "    y_valid = y_input[rnd_indices[train_size:-test_size]]\n",
    "    y_test = y_input[rnd_indices[-test_size:]]\n",
    "\n",
    "    return X_train, X_valid, X_test, y_train, y_valid, y_test\n",
    "\n"
   ]
  },
  {
   "cell_type": "code",
   "execution_count": 124,
   "metadata": {
    "tags": []
   },
   "outputs": [],
   "source": [
    "#split data to train, valid and test\n",
    "X_train, X_valid, X_test, y_train, y_valid, y_test = split_manual(X_with_bias, y, 0.2, 0.2)"
   ]
  },
  {
   "cell_type": "code",
   "execution_count": 125,
   "metadata": {},
   "outputs": [],
   "source": [
    "y_train_one_hot = to_one_hot(y_train)\n",
    "y_valid_one_hot = to_one_hot(y_valid)\n",
    "y_test_one_hot = to_one_hot(y_test)"
   ]
  },
  {
   "cell_type": "markdown",
   "metadata": {},
   "source": [
    "## Train Model"
   ]
  },
  {
   "cell_type": "code",
   "execution_count": 126,
   "metadata": {},
   "outputs": [],
   "source": [
    "## Define softmax function\n",
    "def softmax(logits):\n",
    "    exps = np.exp(logits)\n",
    "    exp_sums = np.sum(exps, axis=1, keepdims=True)\n",
    "    return exps / exp_sums"
   ]
  },
  {
   "cell_type": "code",
   "execution_count": 127,
   "metadata": {},
   "outputs": [],
   "source": [
    "def softmax_train(X,y, eta=0.01, n_iterations=5001, epsilon=1e-7):\n",
    "    m = len(X)\n",
    "    n_inputs = X.shape[1] # == 3 (2 features plus the bias term)\n",
    "    n_outputs = len(np.unique(y, axis=0))   # == 3 (3 iris classes)\n",
    "    Theta = np.random.randn(n_inputs, n_outputs)\n",
    "    for iteration in range(n_iterations):\n",
    "        logits = X.dot(Theta)\n",
    "        Y_proba = softmax(logits)\n",
    "        loss = -np.mean(np.sum(y * np.log(Y_proba + epsilon), axis=1))\n",
    "        error = Y_proba - y\n",
    "        if iteration % 500 == 0:\n",
    "            print(iteration, loss)\n",
    "        gradients = 1/m * X.T.dot(error)\n",
    "        Theta = Theta - eta * gradients\n",
    "    \n",
    "    return Theta"
   ]
  },
  {
   "cell_type": "code",
   "execution_count": 128,
   "metadata": {
    "tags": []
   },
   "outputs": [],
   "source": [
    "#Theta = softmax_train(X_train, y_train_one_hot)"
   ]
  },
  {
   "cell_type": "code",
   "execution_count": 140,
   "metadata": {},
   "outputs": [],
   "source": [
    "def softmax_proba(X_input, Theta_input):\n",
    "    logits = X_input.dot(Theta_input)\n",
    "    return softmax(logits)\n",
    "    \n",
    "\n",
    "def softmax_predict(X_input, Theta_input):\n",
    "    Y_proba = softmax_proba(X_input, Theta_input)\n",
    "    return np.argmax(Y_proba, axis=1)   \n",
    "\n",
    "def softmax_accuracy(y_true, y_pred):\n",
    "    return np.mean(y_pred == y_true)\n"
   ]
  },
  {
   "cell_type": "code",
   "execution_count": 141,
   "metadata": {
    "tags": []
   },
   "outputs": [
    {
     "output_type": "stream",
     "name": "stdout",
     "text": "0 3.2078708887337366\n500 0.9102655715933011\n1000 0.7245981143541181\n1500 0.6195736452392622\n2000 0.5544764557510471\n2500 0.510121522324934\n3000 0.4775255492382668\n3500 0.4521715148580381\n4000 0.4315976459646628\n4500 0.41436168630147824\n5000 0.39956523349383655\n0.9666666666666667\n"
    }
   ],
   "source": [
    "Theta0 = softmax_train(X_train, y_train_one_hot)\n",
    "y_predict0 = softmax_predict(X_valid, Theta0)\n",
    "print(softmax_accuracy(y_valid, y_predict0))"
   ]
  },
  {
   "cell_type": "markdown",
   "metadata": {},
   "source": [
    "## Train Model with Regularization"
   ]
  },
  {
   "cell_type": "code",
   "execution_count": 132,
   "metadata": {},
   "outputs": [],
   "source": [
    "def softmax_train_reg(X,y, eta=0.01, n_iterations=5001, epsilon=1e-7, alpha=0):\n",
    "    reg_value = 0\n",
    "    m = len(X)\n",
    "    n_inputs = X.shape[1] # == 3 (2 features plus the bias term)\n",
    "    n_outputs = len(np.unique(y, axis=0))   # == 3 (3 iris classes)\n",
    "    Theta = np.random.randn(n_inputs, n_outputs)\n",
    "    for iteration in range(n_iterations):\n",
    "        logits = X.dot(Theta)\n",
    "        Y_proba = softmax(logits)\n",
    "        loss = -np.mean(np.sum(y * np.log(Y_proba + epsilon), axis=1))\n",
    "\n",
    "        #calculate regularization\n",
    "        if (alpha > 0):\n",
    "            l2_loss = 1/2 * np.sum(np.square(Theta[1:]))\n",
    "            loss = loss + alpha * l2_loss\n",
    "            reg_value = np.r_[np.zeros([1, n_outputs]), alpha * Theta[1:]]\n",
    "\n",
    "        error = Y_proba - y\n",
    "        if iteration % 500 == 0:\n",
    "            print(iteration, loss)\n",
    "        \n",
    "        gradients = 1/m * X_train.T.dot(error) + reg_value\n",
    "        Theta = Theta - eta * gradients\n",
    "    \n",
    "    return Theta"
   ]
  },
  {
   "cell_type": "code",
   "execution_count": 177,
   "metadata": {
    "tags": []
   },
   "outputs": [
    {
     "output_type": "stream",
     "name": "stdout",
     "text": "0 5.724334119069223\n500 0.8486894750536992\n1000 0.6852227121507914\n1500 0.5922028145237946\n2000 0.534401132587006\n2500 0.49496352341377414\n3000 0.4659244611663126\n3500 0.44326242819834444\n4000 0.4247862232100028\n4500 0.40921651470821874\n5000 0.39576088473524795\n0.9333333333333333\n"
    }
   ],
   "source": [
    "Theta1 = softmax_train_reg(X_train, y_train_one_hot)\n",
    "y_predict1 = softmax_predict(X_valid, Theta1)\n",
    "print(softmax_accuracy(y_valid, y_predict1))"
   ]
  },
  {
   "cell_type": "code",
   "execution_count": 134,
   "metadata": {
    "tags": []
   },
   "outputs": [
    {
     "output_type": "stream",
     "name": "stdout",
     "text": "0 5.1960577948669044\n500 0.43488021031204266\n1000 0.36229502865996227\n1500 0.3245403372526724\n2000 0.30051903066813007\n2500 0.28399519364079534\n3000 0.27209348359164676\n3500 0.2632401967817035\n4000 0.2564915989643679\n4500 0.2512468493539844\n5000 0.24710620351627532\n0.9666666666666667\n"
    }
   ],
   "source": [
    "Theta2 = softmax_train_reg(X_train, y_train_one_hot, eta=0.1, alpha=0.01, n_iterations=5001)\n",
    "y_predict2 = softmax_predict(X_valid, Theta2)\n",
    "print(softmax_accuracy(y_valid, y_predict2))\n"
   ]
  },
  {
   "cell_type": "markdown",
   "metadata": {},
   "source": [
    "## Train Model with Early Stopping"
   ]
  },
  {
   "cell_type": "code",
   "execution_count": 143,
   "metadata": {},
   "outputs": [],
   "source": [
    "def softmax_train_reg_stop(X,y, early_stop = False, X_valid = None, y_valid = None, y_valid_one_hot=None, eta=0.01, n_iterations=5001, epsilon=1e-7, alpha=0, ):\n",
    "    reg_value = 0\n",
    "    m = len(X)\n",
    "    n_inputs = X.shape[1] # == 3 (2 features plus the bias term)\n",
    "    n_outputs = len(np.unique(y, axis=0))   # == 3 (3 iris classes)\n",
    "    Theta = np.random.randn(n_inputs, n_outputs)\n",
    "    best_loss = np.infty\n",
    "\n",
    "    for iteration in range(n_iterations):\n",
    "        logits = X.dot(Theta)\n",
    "        Y_proba = softmax(logits)\n",
    "        loss = -np.mean(np.sum(y * np.log(Y_proba + epsilon), axis=1))\n",
    "\n",
    "        #calculate regularization\n",
    "        if (alpha > 0):\n",
    "            l2_loss = 1/2 * np.sum(np.square(Theta[1:]))\n",
    "            loss = loss + alpha * l2_loss\n",
    "            reg_value = np.r_[np.zeros([1, n_outputs]), alpha * Theta[1:]]\n",
    "\n",
    "        error = Y_proba - y\n",
    "        gradients = 1/m * X_train.T.dot(error) + reg_value\n",
    "        Theta = Theta - eta * gradients\n",
    "\n",
    "        if iteration % 500 == 0:\n",
    "            print(iteration, loss)\n",
    "\n",
    "        if early_stop:\n",
    "            y_proba = softmax_proba(X_valid, Theta)\n",
    "            xentropy_loss = -np.mean(np.sum(y_valid_one_hot * np.log(y_proba + epsilon), axis=1))\n",
    "            l2_loss = 1/2 * np.sum(np.square(Theta[1:]))\n",
    "            loss = xentropy_loss + alpha * l2_loss\n",
    "            if loss < best_loss:\n",
    "                best_loss = loss\n",
    "            else:\n",
    "                print(iteration - 1, best_loss)\n",
    "                print(iteration, loss, \"early stopping!\")\n",
    "                return Theta\n",
    "\n",
    "    return Theta"
   ]
  },
  {
   "cell_type": "code",
   "execution_count": 151,
   "metadata": {
    "tags": []
   },
   "outputs": [
    {
     "output_type": "stream",
     "name": "stdout",
     "text": "0 2.0622969029233422\n500 0.8699865175672002\n1000 0.6991894533616019\n1500 0.6009046169921253\n2000 0.5400563760622615\n2500 0.49887389844420527\n3000 0.468804047568738\n3500 0.44551217441689067\n4000 0.426640342163956\n4500 0.4108171013843986\n5000 0.3971969387689109\n0.9333333333333333\n"
    }
   ],
   "source": [
    "Theta1 = softmax_train_reg_stop(X_train, y_train_one_hot)\n",
    "y_predict1 = softmax_predict(X_valid, Theta1)\n",
    "print(softmax_accuracy(y_valid, y_predict1))"
   ]
  },
  {
   "cell_type": "code",
   "execution_count": 147,
   "metadata": {
    "tags": []
   },
   "outputs": [
    {
     "output_type": "stream",
     "name": "stdout",
     "text": "0 4.20473651918448\n500 0.4348396152428904\n1000 0.36228045170776024\n1500 0.3244485923105366\n2000 0.30039390882562095\n2500 0.2838692403156974\n3000 0.27198124739028\n3500 0.2631455213784823\n4000 0.2564136436119871\n4500 0.2511832335942712\n5000 0.2470543542440645\n0.9666666666666667\n"
    }
   ],
   "source": [
    "Theta2 = softmax_train_reg_stop(X_train, y_train_one_hot, eta=0.1, alpha=0.01, n_iterations=5001)\n",
    "y_predict2 = softmax_predict(X_valid, Theta2)\n",
    "print(softmax_accuracy(y_valid, y_predict2))"
   ]
  },
  {
   "cell_type": "code",
   "execution_count": 146,
   "metadata": {
    "tags": []
   },
   "outputs": [
    {
     "output_type": "stream",
     "name": "stdout",
     "text": "0 3.248603418763468\n500 0.5236482529721027\n1000 0.5012026401848378\n1500 0.4938085566634075\n2000 0.4909411221337844\n2500 0.48974810711102384\n2614 0.5325466937764207\n2615 0.5325466948333359 early stopping!\n1.0\n"
    }
   ],
   "source": [
    "Theta3 = softmax_train_reg_stop(X_train, y_train_one_hot, early_stop = True, X_valid = X_valid, y_valid = y_valid, y_valid_one_hot=y_valid_one_hot, eta=0.1, alpha=0.1, n_iterations=5001)\n",
    "y_predict3 = softmax_predict(X_valid, Theta3)\n",
    "print(softmax_accuracy(y_valid, y_predict3))"
   ]
  }
 ]
}