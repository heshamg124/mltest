{
  "nbformat": 4,
  "nbformat_minor": 0,
  "metadata": {
    "kernelspec": {
      "display_name": "Python 3",
      "language": "python",
      "name": "python3"
    },
    "language_info": {
      "codemirror_mode": {
        "name": "ipython",
        "version": 3
      },
      "file_extension": ".py",
      "mimetype": "text/x-python",
      "name": "python",
      "nbconvert_exporter": "python",
      "pygments_lexer": "ipython3",
      "version": "3.7.7"
    },
    "colab": {
      "name": "Housing_Prices_Simple.ipynb",
      "provenance": [],
      "collapsed_sections": [],
      "toc_visible": true
    }
  },
  "cells": [
    {
      "cell_type": "markdown",
      "metadata": {
        "collapsed": true,
        "pycharm": {
          "name": "#%% md\n"
        },
        "id": "MDAo_rk34nqi"
      },
      "source": [
        "# Housing Prices\n",
        "\n"
      ]
    },
    {
      "cell_type": "markdown",
      "metadata": {
        "id": "D4vJKYia5D1j"
      },
      "source": [
        "## Collect Data"
      ]
    },
    {
      "cell_type": "code",
      "metadata": {
        "id": "QDunzWgu4nqm",
        "colab": {
          "base_uri": "https://localhost:8080/"
        },
        "outputId": "fc4a11cf-7bcf-4e99-abab-d8069b3c0b13"
      },
      "source": [
        "import os\n",
        "import tarfile\n",
        "import urllib.request as req\n",
        "import numpy as np\n",
        "import pandas as pd\n",
        "import sklearn\n",
        "\n",
        "#Download data to a local csv file\n",
        "housing_path = os.path.join(\"datasets\", \"housing\")\n",
        "if not os.path.isdir(housing_path):\n",
        "    os.makedirs(housing_path)\n",
        "tgz_path = os.path.join(housing_path, \"housing.tgz\")\n",
        "req.urlretrieve(\"https://raw.githubusercontent.com/ageron/handson-ml2/master/datasets/housing/housing.tgz\", tgz_path)\n",
        "housing_tgz = tarfile.open(tgz_path)\n",
        "housing_tgz.extractall(path=housing_path)\n",
        "housing_tgz.close()\n",
        "\n",
        "#Open csv file to process data\n",
        "csv_path = os.path.join(housing_path, \"housing.csv\")\n",
        "housing =  pd.read_csv(csv_path)\n",
        "housing.info()\n"
      ],
      "execution_count": null,
      "outputs": [
        {
          "output_type": "stream",
          "text": [
            "<class 'pandas.core.frame.DataFrame'>\n",
            "RangeIndex: 20640 entries, 0 to 20639\n",
            "Data columns (total 10 columns):\n",
            " #   Column              Non-Null Count  Dtype  \n",
            "---  ------              --------------  -----  \n",
            " 0   longitude           20640 non-null  float64\n",
            " 1   latitude            20640 non-null  float64\n",
            " 2   housing_median_age  20640 non-null  float64\n",
            " 3   total_rooms         20640 non-null  float64\n",
            " 4   total_bedrooms      20433 non-null  float64\n",
            " 5   population          20640 non-null  float64\n",
            " 6   households          20640 non-null  float64\n",
            " 7   median_income       20640 non-null  float64\n",
            " 8   median_house_value  20640 non-null  float64\n",
            " 9   ocean_proximity     20640 non-null  object \n",
            "dtypes: float64(9), object(1)\n",
            "memory usage: 1.6+ MB\n"
          ],
          "name": "stdout"
        }
      ]
    },
    {
      "cell_type": "markdown",
      "metadata": {
        "id": "8Mde489e4nq3"
      },
      "source": [
        "## Split Training and Test sets"
      ]
    },
    {
      "cell_type": "code",
      "metadata": {
        "id": "lpMfVVV84nq4"
      },
      "source": [
        "\n",
        "housing = housing.drop('ocean_proximity',axis=1)\n",
        "from sklearn.model_selection import train_test_split\n",
        "train_set, test_set = train_test_split(housing, test_size=0.2, random_state=42)\n",
        "\n",
        "x_train = train_set.drop(\"median_house_value\", axis=1) # drop labels for training set\n",
        "x_train['total_bedrooms'] = x_train['total_bedrooms'].fillna(x_train['total_bedrooms'].mean())\n",
        "y_train = train_set[\"median_house_value\"].copy()\n",
        "x_test = test_set.drop('median_house_value',axis=1)\n",
        "x_test['total_bedrooms'] = x_test['total_bedrooms'].fillna(x_test['total_bedrooms'].mean())\n",
        "y_test = test_set.median_house_value\n"
      ],
      "execution_count": null,
      "outputs": []
    },
    {
      "cell_type": "markdown",
      "metadata": {
        "id": "FrX5ow9V4nq5"
      },
      "source": [
        "## Model Training\n"
      ]
    },
    {
      "cell_type": "code",
      "metadata": {
        "id": "Wt15n7DL4nq6",
        "colab": {
          "base_uri": "https://localhost:8080/"
        },
        "outputId": "401a6ba3-cdfd-41ba-9e32-d574da717851"
      },
      "source": [
        "from sklearn.linear_model import LinearRegression\n",
        "model = LinearRegression()\n",
        "model.fit(x_train,y_train)\n",
        "model.score(x_train,y_train)"
      ],
      "execution_count": null,
      "outputs": [
        {
          "output_type": "execute_result",
          "data": {
            "text/plain": [
              "0.6400947924305292"
            ]
          },
          "metadata": {
            "tags": []
          },
          "execution_count": 16
        }
      ]
    },
    {
      "cell_type": "code",
      "metadata": {
        "id": "1YRzHRoN4nq6",
        "colab": {
          "base_uri": "https://localhost:8080/"
        },
        "outputId": "395c532e-1ba1-483c-b062-8f9a3d4259cf"
      },
      "source": [
        "model.predict(x_test)\n",
        "model.score(x_test,y_test)"
      ],
      "execution_count": null,
      "outputs": [
        {
          "output_type": "execute_result",
          "data": {
            "text/plain": [
              "0.6143987542202668"
            ]
          },
          "metadata": {
            "tags": []
          },
          "execution_count": 17
        }
      ]
    }
  ]
}