{
  "nbformat": 4,
  "nbformat_minor": 0,
  "metadata": {
    "orig_nbformat": 2,
    "kernelspec": {
      "name": "python3",
      "display_name": "Python 3"
    },
    "colab": {
      "name": "Linear SVM on MNIST.ipynb",
      "provenance": [],
      "collapsed_sections": []
    }
  },
  "cells": [
    {
      "cell_type": "markdown",
      "metadata": {
        "id": "Gt9qskutvTQb",
        "colab_type": "text"
      },
      "source": [
        "# MNIST data Linear SVM\n",
        "\n",
        "## Initialize"
      ]
    },
    {
      "cell_type": "code",
      "metadata": {
        "id": "CxXKtr1HvTQd",
        "colab_type": "code",
        "colab": {}
      },
      "source": [
        "# Common imports\n",
        "import numpy as np\n",
        "import os\n",
        "\n",
        "# to make this notebook's output stable across runs\n",
        "np.random.seed(2042)\n",
        "\n",
        "# To plot pretty figures\n",
        "%matplotlib inline\n",
        "import matplotlib as mpl\n",
        "import matplotlib.pyplot as plt\n",
        "\n",
        "# Where to save the figures\n",
        "PROJECT_ROOT_DIR = \".\"\n",
        "IMAGES_PATH = os.path.join(PROJECT_ROOT_DIR, \"images\")\n",
        "os.makedirs(IMAGES_PATH, exist_ok=True)\n"
      ],
      "execution_count": null,
      "outputs": []
    },
    {
      "cell_type": "markdown",
      "metadata": {
        "id": "wGRto2hMvTQi",
        "colab_type": "text"
      },
      "source": [
        "## Fetch Data"
      ]
    },
    {
      "cell_type": "code",
      "metadata": {
        "id": "OPxe1AIWvTQj",
        "colab_type": "code",
        "colab": {}
      },
      "source": [
        "# Fetch spam data\n",
        "\n",
        "from sklearn.datasets import fetch_openml\n",
        "mnist = fetch_openml('mnist_784', version=1, cache=True)"
      ],
      "execution_count": null,
      "outputs": []
    },
    {
      "cell_type": "code",
      "metadata": {
        "id": "zidHMjMkvTQn",
        "colab_type": "code",
        "colab": {}
      },
      "source": [
        "X = mnist[\"data\"]\n",
        "y = mnist[\"target\"].astype(np.uint8)\n",
        "\n",
        "X_train = X[:60000]\n",
        "y_train = y[:60000]\n",
        "X_test = X[60000:]\n",
        "y_test = y[60000:]\n",
        "\n"
      ],
      "execution_count": null,
      "outputs": []
    },
    {
      "cell_type": "code",
      "metadata": {
        "id": "H4n4qGH4vTQu",
        "colab_type": "code",
        "colab": {}
      },
      "source": [
        "from sklearn.preprocessing import StandardScaler\n",
        "scaler = StandardScaler()\n",
        "X_train_scaled = scaler.fit_transform(X_train.astype(np.float32))\n",
        "X_test_scaled = scaler.transform(X_test.astype(np.float32))"
      ],
      "execution_count": null,
      "outputs": []
    },
    {
      "cell_type": "markdown",
      "metadata": {
        "id": "kbOhMhoBvTQy",
        "colab_type": "text"
      },
      "source": [
        "## Train Model"
      ]
    },
    {
      "cell_type": "code",
      "metadata": {
        "tags": [],
        "id": "V6hNFGyHvTQz",
        "colab_type": "code",
        "colab": {
          "base_uri": "https://localhost:8080/",
          "height": 85
        },
        "outputId": "58281648-b47d-4860-9804-01af8bf370bc"
      },
      "source": [
        "from sklearn.svm import SVC\n",
        "\n",
        "svm_clf = SVC(gamma=\"scale\")\n",
        "svm_clf.fit(X_train_scaled[:1000], y_train[:1000])          "
      ],
      "execution_count": null,
      "outputs": [
        {
          "output_type": "execute_result",
          "data": {
            "text/plain": [
              "SVC(C=1.0, break_ties=False, cache_size=200, class_weight=None, coef0=0.0,\n",
              "    decision_function_shape='ovr', degree=3, gamma='scale', kernel='rbf',\n",
              "    max_iter=-1, probability=False, random_state=None, shrinking=True,\n",
              "    tol=0.001, verbose=False)"
            ]
          },
          "metadata": {
            "tags": []
          },
          "execution_count": 6
        }
      ]
    },
    {
      "cell_type": "markdown",
      "metadata": {
        "id": "E2ccXY1SvTQ3",
        "colab_type": "text"
      },
      "source": [
        "## Measure Performance"
      ]
    },
    {
      "cell_type": "code",
      "metadata": {
        "id": "lf0EY_lfvTQ4",
        "colab_type": "code",
        "colab": {}
      },
      "source": [
        "from sklearn.metrics import accuracy_score, precision_score, recall_score, f1_score, confusion_matrix, classification_report\n",
        "\n",
        "def model_scores(y_true, y_pred, y_labels):\n",
        "    accuracy = accuracy_score(y_true, y_pred)\n",
        "    precision = precision_score(y_true, y_pred, average=\"macro\")\n",
        "    recall = recall_score(y_true, y_pred, average=\"macro\")\n",
        "    f1 = f1_score(y_true, y_pred, average=\"macro\")\n",
        "    confusion = confusion_matrix(y_true, y_pred, labels=y_labels)\n",
        "    output = \"Accuracy: {}\\nPrecision: {}\\nRecall {}\\nF1-Score: {}\\n\\nConfusion Matrix: \\n{} \\n\\nClassification Report: \\n{}\".format(accuracy, precision, recall, f1, confusion, classification_report(y_true, y_pred))\n",
        "    return output\n"
      ],
      "execution_count": null,
      "outputs": []
    },
    {
      "cell_type": "code",
      "metadata": {
        "tags": [],
        "id": "Pjes7wvdvTQ6",
        "colab_type": "code",
        "colab": {
          "base_uri": "https://localhost:8080/",
          "height": 612
        },
        "outputId": "52ac5abb-6b1a-4571-f10b-adc09bcaf673"
      },
      "source": [
        "y_pred = svm_clf.predict(X_test_scaled[:100])\n",
        "print(model_scores(y_test[:100], y_pred, svm_clf.classes_))"
      ],
      "execution_count": null,
      "outputs": [
        {
          "output_type": "stream",
          "text": [
            "Accuracy: 0.9\n",
            "Precision: 0.916825396825397\n",
            "Recall 0.9001839826839827\n",
            "F1-Score: 0.9029594993692356\n",
            "\n",
            "Confusion Matrix: \n",
            "[[ 8  0  0  0  0  0  0  0  0  0]\n",
            " [ 0 14  0  0  0  0  0  0  0  0]\n",
            " [ 0  0  7  0  0  0  0  1  0  0]\n",
            " [ 0  0  1  9  0  1  0  0  0  0]\n",
            " [ 0  0  0  0 14  0  0  0  0  0]\n",
            " [ 0  0  1  0  0  6  0  0  0  0]\n",
            " [ 0  0  1  0  1  0  7  1  0  0]\n",
            " [ 0  0  0  0  0  0  0 14  0  1]\n",
            " [ 0  0  0  0  0  0  0  0  2  0]\n",
            " [ 0  0  0  0  0  0  0  2  0  9]] \n",
            "\n",
            "Classification Report: \n",
            "              precision    recall  f1-score   support\n",
            "\n",
            "           0       1.00      1.00      1.00         8\n",
            "           1       1.00      1.00      1.00        14\n",
            "           2       0.70      0.88      0.78         8\n",
            "           3       1.00      0.82      0.90        11\n",
            "           4       0.93      1.00      0.97        14\n",
            "           5       0.86      0.86      0.86         7\n",
            "           6       1.00      0.70      0.82        10\n",
            "           7       0.78      0.93      0.85        15\n",
            "           8       1.00      1.00      1.00         2\n",
            "           9       0.90      0.82      0.86        11\n",
            "\n",
            "    accuracy                           0.90       100\n",
            "   macro avg       0.92      0.90      0.90       100\n",
            "weighted avg       0.91      0.90      0.90       100\n",
            "\n"
          ],
          "name": "stdout"
        }
      ]
    },
    {
      "cell_type": "markdown",
      "metadata": {
        "id": "yw-1VnPnvTQ-",
        "colab_type": "text"
      },
      "source": [
        "## Optimize Model Parameters"
      ]
    },
    {
      "cell_type": "code",
      "metadata": {
        "tags": [],
        "id": "k8x_1wCmvTQ_",
        "colab_type": "code",
        "colab": {
          "base_uri": "https://localhost:8080/",
          "height": 1000
        },
        "outputId": "688c7302-9287-475c-cb08-d373dff9f8b0"
      },
      "source": [
        "from sklearn.model_selection import RandomizedSearchCV\n",
        "from scipy.stats import reciprocal, uniform\n",
        "\n",
        "param_distributions = {\"gamma\": reciprocal(0.001, 0.1), \"C\": uniform(1, 10)}\n",
        "rnd_search_cv = RandomizedSearchCV(svm_clf, param_distributions, n_iter=10, verbose=2, cv=3)\n",
        "rnd_search_cv.fit(X_train_scaled[:1000], y_train[:1000])"
      ],
      "execution_count": null,
      "outputs": [
        {
          "output_type": "stream",
          "text": [
            "Fitting 3 folds for each of 10 candidates, totalling 30 fits\n",
            "[CV] C=10.907619568894967, gamma=0.0062438299522977565 ...............\n"
          ],
          "name": "stdout"
        },
        {
          "output_type": "stream",
          "text": [
            "[Parallel(n_jobs=1)]: Using backend SequentialBackend with 1 concurrent workers.\n"
          ],
          "name": "stderr"
        },
        {
          "output_type": "stream",
          "text": [
            "[CV]  C=10.907619568894967, gamma=0.0062438299522977565, total=   1.5s\n",
            "[CV] C=10.907619568894967, gamma=0.0062438299522977565 ...............\n"
          ],
          "name": "stdout"
        },
        {
          "output_type": "stream",
          "text": [
            "[Parallel(n_jobs=1)]: Done   1 out of   1 | elapsed:    1.5s remaining:    0.0s\n"
          ],
          "name": "stderr"
        },
        {
          "output_type": "stream",
          "text": [
            "[CV]  C=10.907619568894967, gamma=0.0062438299522977565, total=   1.3s\n",
            "[CV] C=10.907619568894967, gamma=0.0062438299522977565 ...............\n",
            "[CV]  C=10.907619568894967, gamma=0.0062438299522977565, total=   1.3s\n",
            "[CV] C=6.75011734742257, gamma=0.008162191423759744 ..................\n",
            "[CV] ... C=6.75011734742257, gamma=0.008162191423759744, total=   1.3s\n",
            "[CV] C=6.75011734742257, gamma=0.008162191423759744 ..................\n",
            "[CV] ... C=6.75011734742257, gamma=0.008162191423759744, total=   1.3s\n",
            "[CV] C=6.75011734742257, gamma=0.008162191423759744 ..................\n",
            "[CV] ... C=6.75011734742257, gamma=0.008162191423759744, total=   1.3s\n",
            "[CV] C=5.912834555049468, gamma=0.001196881115803255 .................\n",
            "[CV] .. C=5.912834555049468, gamma=0.001196881115803255, total=   0.9s\n",
            "[CV] C=5.912834555049468, gamma=0.001196881115803255 .................\n",
            "[CV] .. C=5.912834555049468, gamma=0.001196881115803255, total=   1.0s\n",
            "[CV] C=5.912834555049468, gamma=0.001196881115803255 .................\n",
            "[CV] .. C=5.912834555049468, gamma=0.001196881115803255, total=   1.0s\n",
            "[CV] C=10.417049987235384, gamma=0.00283490621970576 .................\n",
            "[CV] .. C=10.417049987235384, gamma=0.00283490621970576, total=   1.3s\n",
            "[CV] C=10.417049987235384, gamma=0.00283490621970576 .................\n",
            "[CV] .. C=10.417049987235384, gamma=0.00283490621970576, total=   1.3s\n",
            "[CV] C=10.417049987235384, gamma=0.00283490621970576 .................\n",
            "[CV] .. C=10.417049987235384, gamma=0.00283490621970576, total=   1.4s\n",
            "[CV] C=3.1484022203027986, gamma=0.06359809892608945 .................\n",
            "[CV] .. C=3.1484022203027986, gamma=0.06359809892608945, total=   1.4s\n",
            "[CV] C=3.1484022203027986, gamma=0.06359809892608945 .................\n",
            "[CV] .. C=3.1484022203027986, gamma=0.06359809892608945, total=   1.4s\n",
            "[CV] C=3.1484022203027986, gamma=0.06359809892608945 .................\n",
            "[CV] .. C=3.1484022203027986, gamma=0.06359809892608945, total=   1.4s\n",
            "[CV] C=9.384377754007325, gamma=0.007055288468510648 .................\n",
            "[CV] .. C=9.384377754007325, gamma=0.007055288468510648, total=   1.4s\n",
            "[CV] C=9.384377754007325, gamma=0.007055288468510648 .................\n",
            "[CV] .. C=9.384377754007325, gamma=0.007055288468510648, total=   1.3s\n",
            "[CV] C=9.384377754007325, gamma=0.007055288468510648 .................\n",
            "[CV] .. C=9.384377754007325, gamma=0.007055288468510648, total=   1.4s\n",
            "[CV] C=8.816264095523811, gamma=0.0012815338682938325 ................\n",
            "[CV] . C=8.816264095523811, gamma=0.0012815338682938325, total=   1.0s\n",
            "[CV] C=8.816264095523811, gamma=0.0012815338682938325 ................\n",
            "[CV] . C=8.816264095523811, gamma=0.0012815338682938325, total=   1.0s\n",
            "[CV] C=8.816264095523811, gamma=0.0012815338682938325 ................\n",
            "[CV] . C=8.816264095523811, gamma=0.0012815338682938325, total=   1.1s\n",
            "[CV] C=1.2394087274780499, gamma=0.0024188066055024454 ...............\n",
            "[CV]  C=1.2394087274780499, gamma=0.0024188066055024454, total=   1.1s\n",
            "[CV] C=1.2394087274780499, gamma=0.0024188066055024454 ...............\n",
            "[CV]  C=1.2394087274780499, gamma=0.0024188066055024454, total=   1.1s\n",
            "[CV] C=1.2394087274780499, gamma=0.0024188066055024454 ...............\n",
            "[CV]  C=1.2394087274780499, gamma=0.0024188066055024454, total=   1.2s\n",
            "[CV] C=9.772129772626286, gamma=0.018777878334468437 .................\n",
            "[CV] .. C=9.772129772626286, gamma=0.018777878334468437, total=   1.3s\n",
            "[CV] C=9.772129772626286, gamma=0.018777878334468437 .................\n",
            "[CV] .. C=9.772129772626286, gamma=0.018777878334468437, total=   1.3s\n",
            "[CV] C=9.772129772626286, gamma=0.018777878334468437 .................\n",
            "[CV] .. C=9.772129772626286, gamma=0.018777878334468437, total=   1.3s\n",
            "[CV] C=10.290292600203111, gamma=0.038839786339179116 ................\n",
            "[CV] . C=10.290292600203111, gamma=0.038839786339179116, total=   1.3s\n",
            "[CV] C=10.290292600203111, gamma=0.038839786339179116 ................\n",
            "[CV] . C=10.290292600203111, gamma=0.038839786339179116, total=   1.3s\n",
            "[CV] C=10.290292600203111, gamma=0.038839786339179116 ................\n",
            "[CV] . C=10.290292600203111, gamma=0.038839786339179116, total=   1.3s\n"
          ],
          "name": "stdout"
        },
        {
          "output_type": "stream",
          "text": [
            "[Parallel(n_jobs=1)]: Done  30 out of  30 | elapsed:   37.8s finished\n"
          ],
          "name": "stderr"
        },
        {
          "output_type": "execute_result",
          "data": {
            "text/plain": [
              "RandomizedSearchCV(cv=3, error_score=nan,\n",
              "                   estimator=SVC(C=1.0, break_ties=False, cache_size=200,\n",
              "                                 class_weight=None, coef0=0.0,\n",
              "                                 decision_function_shape='ovr', degree=3,\n",
              "                                 gamma='scale', kernel='rbf', max_iter=-1,\n",
              "                                 probability=False, random_state=None,\n",
              "                                 shrinking=True, tol=0.001, verbose=False),\n",
              "                   iid='deprecated', n_iter=10, n_jobs=None,\n",
              "                   param_distributions={'C': <scipy.stats._distn_infrastructure.rv_frozen object at 0x7fcd1cb51a58>,\n",
              "                                        'gamma': <scipy.stats._distn_infrastructure.rv_frozen object at 0x7fcd1cb51d30>},\n",
              "                   pre_dispatch='2*n_jobs', random_state=None, refit=True,\n",
              "                   return_train_score=False, scoring=None, verbose=2)"
            ]
          },
          "metadata": {
            "tags": []
          },
          "execution_count": 14
        }
      ]
    },
    {
      "cell_type": "code",
      "metadata": {
        "id": "F4mGIe1DvTRB",
        "colab_type": "code",
        "colab": {
          "base_uri": "https://localhost:8080/",
          "height": 85
        },
        "outputId": "f23529ac-8ec1-421f-bf18-c577c8301ecf"
      },
      "source": [
        "rnd_search_cv.best_estimator_"
      ],
      "execution_count": null,
      "outputs": [
        {
          "output_type": "execute_result",
          "data": {
            "text/plain": [
              "SVC(C=8.816264095523811, break_ties=False, cache_size=200, class_weight=None,\n",
              "    coef0=0.0, decision_function_shape='ovr', degree=3,\n",
              "    gamma=0.0012815338682938325, kernel='rbf', max_iter=-1, probability=False,\n",
              "    random_state=None, shrinking=True, tol=0.001, verbose=False)"
            ]
          },
          "metadata": {
            "tags": []
          },
          "execution_count": 15
        }
      ]
    },
    {
      "cell_type": "code",
      "metadata": {
        "id": "z9UD0LUSvTRD",
        "colab_type": "code",
        "colab": {
          "base_uri": "https://localhost:8080/",
          "height": 34
        },
        "outputId": "6be7f4ed-f4f8-4da1-b43c-fa1ebc0672b0"
      },
      "source": [
        "rnd_search_cv.best_score_"
      ],
      "execution_count": null,
      "outputs": [
        {
          "output_type": "execute_result",
          "data": {
            "text/plain": [
              "0.8619937302572033"
            ]
          },
          "metadata": {
            "tags": []
          },
          "execution_count": 16
        }
      ]
    },
    {
      "cell_type": "code",
      "metadata": {
        "tags": [],
        "id": "GlqJOgsevTRG",
        "colab_type": "code",
        "colab": {
          "base_uri": "https://localhost:8080/",
          "height": 612
        },
        "outputId": "479774df-8b7f-4991-c18b-a31344b5e399"
      },
      "source": [
        "y_pred = rnd_search_cv.best_estimator_.predict(X_test_scaled)\n",
        "print(model_scores(y_test, y_pred, svm_clf.classes_))"
      ],
      "execution_count": null,
      "outputs": [
        {
          "output_type": "stream",
          "text": [
            "Accuracy: 0.8827\n",
            "Precision: 0.8847037028139608\n",
            "Recall 0.8809936688922431\n",
            "F1-Score: 0.8815708323383802\n",
            "\n",
            "Confusion Matrix: \n",
            "[[ 941    0    9    3    2    5    7    9    3    1]\n",
            " [   0 1108    1    2    0    3    4    2   15    0]\n",
            " [   8    6  923   13    6    2   13   40   20    1]\n",
            " [   1    3   37  806    1   73    3   30   46   10]\n",
            " [   0    3    9    2  881    1    9   18    6   53]\n",
            " [   7    4    7   31   12  754   14   40   14    9]\n",
            " [  13    3   20    1   11   19  837   51    3    0]\n",
            " [   0   16   19    6   12    1    0  935    0   39]\n",
            " [  18    4   17   21   13   43    8   41  789   20]\n",
            " [   7    6    5   10   48    5    0   70    5  853]] \n",
            "\n",
            "Classification Report: \n",
            "              precision    recall  f1-score   support\n",
            "\n",
            "           0       0.95      0.96      0.95       980\n",
            "           1       0.96      0.98      0.97      1135\n",
            "           2       0.88      0.89      0.89      1032\n",
            "           3       0.90      0.80      0.85      1010\n",
            "           4       0.89      0.90      0.90       982\n",
            "           5       0.83      0.85      0.84       892\n",
            "           6       0.94      0.87      0.90       958\n",
            "           7       0.76      0.91      0.83      1028\n",
            "           8       0.88      0.81      0.84       974\n",
            "           9       0.87      0.85      0.86      1009\n",
            "\n",
            "    accuracy                           0.88     10000\n",
            "   macro avg       0.88      0.88      0.88     10000\n",
            "weighted avg       0.89      0.88      0.88     10000\n",
            "\n"
          ],
          "name": "stdout"
        }
      ]
    },
    {
      "cell_type": "code",
      "metadata": {
        "id": "YOtw6KbAvTRI",
        "colab_type": "code",
        "colab": {}
      },
      "source": [
        ""
      ],
      "execution_count": null,
      "outputs": []
    }
  ]
}