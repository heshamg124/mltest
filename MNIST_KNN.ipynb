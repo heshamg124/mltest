{
  "nbformat": 4,
  "nbformat_minor": 0,
  "metadata": {
    "orig_nbformat": 2,
    "kernelspec": {
      "name": "python3",
      "display_name": "Python 3"
    },
    "colab": {
      "name": "MNIST-KNN.ipynb",
      "provenance": [],
      "collapsed_sections": [],
      "include_colab_link": true
    }
  },
  "cells": [
    {
      "cell_type": "markdown",
      "metadata": {
        "id": "view-in-github",
        "colab_type": "text"
      },
      "source": [
        "<a href=\"https://colab.research.google.com/github/heshamg124/mltest/blob/master/MNIST_KNN.ipynb\" target=\"_parent\"><img src=\"https://colab.research.google.com/assets/colab-badge.svg\" alt=\"Open In Colab\"/></a>"
      ]
    },
    {
      "cell_type": "markdown",
      "metadata": {
        "id": "wDEMMD2CTlum",
        "colab_type": "text"
      },
      "source": [
        "# MNIST KNN CLassifier with 97% Accurasy\n",
        "\n",
        "## Initialize"
      ]
    },
    {
      "cell_type": "code",
      "metadata": {
        "id": "TeBsJNx-Tlun",
        "colab_type": "code",
        "colab": {}
      },
      "source": [
        "# Common imports\n",
        "import numpy as np\n",
        "import os\n",
        "\n",
        "# to make this notebook's output stable across runs\n",
        "np.random.seed(42)\n",
        "\n",
        "# To plot pretty figures\n",
        "%matplotlib inline\n",
        "import matplotlib as mpl\n",
        "import matplotlib.pyplot as plt\n",
        "\n",
        "# Where to save the figures\n",
        "PROJECT_ROOT_DIR = \".\"\n",
        "IMAGES_PATH = os.path.join(PROJECT_ROOT_DIR, \"images\")\n",
        "os.makedirs(IMAGES_PATH, exist_ok=True)\n"
      ],
      "execution_count": 2,
      "outputs": []
    },
    {
      "cell_type": "markdown",
      "metadata": {
        "id": "hTzb6GODTlut",
        "colab_type": "text"
      },
      "source": [
        "## Fetch Data"
      ]
    },
    {
      "cell_type": "code",
      "metadata": {
        "id": "Y16DwTySTluw",
        "colab_type": "code",
        "colab": {
          "base_uri": "https://localhost:8080/",
          "height": 34
        },
        "outputId": "b7554f1d-aa77-4edb-ac1f-821ea19c1afd"
      },
      "source": [
        "from sklearn.datasets import fetch_openml\n",
        "mnist = fetch_openml('mnist_784', version=1)\n",
        "mnist.keys()"
      ],
      "execution_count": 3,
      "outputs": [
        {
          "output_type": "execute_result",
          "data": {
            "text/plain": [
              "dict_keys(['data', 'target', 'frame', 'feature_names', 'target_names', 'DESCR', 'details', 'categories', 'url'])"
            ]
          },
          "metadata": {
            "tags": []
          },
          "execution_count": 3
        }
      ]
    },
    {
      "cell_type": "markdown",
      "metadata": {
        "id": "zMv5GRMjUCp0",
        "colab_type": "text"
      },
      "source": [
        "## Peepare Data"
      ]
    },
    {
      "cell_type": "code",
      "metadata": {
        "id": "UjLgdA1BTlu6",
        "colab_type": "code",
        "colab": {
          "base_uri": "https://localhost:8080/",
          "height": 51
        },
        "outputId": "9b3c0690-69c6-446a-e71e-8e60f9af7b8d"
      },
      "source": [
        "X, y = mnist[\"data\"], mnist[\"target\"]\n",
        "X_train, X_test, y_train, y_test = X[:60000], X[60000:], y[:60000], y[60000:]\n",
        "\n",
        "print('Training: ', X_train.shape)\n",
        "print('Test: ', X_test.shape)\n"
      ],
      "execution_count": 4,
      "outputs": [
        {
          "output_type": "stream",
          "text": [
            "Training:  (60000, 784)\n",
            "Test:  (10000, 784)\n"
          ],
          "name": "stdout"
        }
      ]
    },
    {
      "cell_type": "markdown",
      "metadata": {
        "id": "lnS25zwATlu-",
        "colab_type": "text"
      },
      "source": [
        "## Train KNN Model"
      ]
    },
    {
      "cell_type": "code",
      "metadata": {
        "id": "2GrG8az-Tlu_",
        "colab_type": "code",
        "colab": {
          "base_uri": "https://localhost:8080/",
          "height": 68
        },
        "outputId": "e03359db-b372-43eb-bfd4-4087990039c4"
      },
      "source": [
        "from sklearn.neighbors import KNeighborsClassifier\n",
        "knn_clf = KNeighborsClassifier(n_neighbors=3)\n",
        "knn_clf.fit(X_train, y_train)\n"
      ],
      "execution_count": 5,
      "outputs": [
        {
          "output_type": "execute_result",
          "data": {
            "text/plain": [
              "KNeighborsClassifier(algorithm='auto', leaf_size=30, metric='minkowski',\n",
              "                     metric_params=None, n_jobs=None, n_neighbors=3, p=2,\n",
              "                     weights='uniform')"
            ]
          },
          "metadata": {
            "tags": []
          },
          "execution_count": 5
        }
      ]
    },
    {
      "cell_type": "markdown",
      "metadata": {
        "id": "H3fovxixTlvB",
        "colab_type": "text"
      },
      "source": [
        "## Accuracy Score"
      ]
    },
    {
      "cell_type": "code",
      "metadata": {
        "tags": [],
        "id": "effmJizdTlvC",
        "colab_type": "code",
        "colab": {
          "base_uri": "https://localhost:8080/",
          "height": 374
        },
        "outputId": "14bd70e8-b2f3-40d6-f537-eb14c0c20abd"
      },
      "source": [
        "from sklearn.metrics import accuracy_score, precision_score, recall_score, f1_score, confusion_matrix\n",
        "y_pred = knn_clf.predict(X_test)\n",
        "\n",
        "\n",
        "knn_acc = accuracy_score(y_true=y_test, y_pred=y_pred)\n",
        "knn_prc = precision_score(y_true=y_test, y_pred=y_pred, average=None)\n",
        "knn_rec = recall_score(y_true=y_test, y_pred=y_pred, average=None)\n",
        "knn_f1 = f1_score(y_true=y_test, y_pred=y_pred, average=None)\n",
        "knn_conf = confusion_matrix(y_true=y_test, y_pred=y_pred)\n",
        "\n",
        "print('Accuracy: {:.4f}'.format(knn_acc))\n",
        "print('\\nPrecision: ',knn_prc)\n",
        "print('\\nRecall: ', knn_rec)\n",
        "print('\\nF1-score: ', knn_f1)\n",
        "print('\\nConfusion Matrix: ',knn_conf)\n"
      ],
      "execution_count": 8,
      "outputs": [
        {
          "output_type": "stream",
          "text": [
            "Accuracy: 0.9705\n",
            "\n",
            "Precision:  [0.96626984 0.95773457 0.98224852 0.96347483 0.97535934 0.96625422\n",
            " 0.98333333 0.96494645 0.98917749 0.96031746]\n",
            "\n",
            "Recall:  [0.99387755 0.99823789 0.96511628 0.96633663 0.96741344 0.96300448\n",
            " 0.98538622 0.96400778 0.93839836 0.95936571]\n",
            "\n",
            "F1-score:  [0.97987928 0.97756687 0.97360704 0.96490361 0.97137014 0.96462661\n",
            " 0.98435871 0.96447689 0.96311907 0.95984135]\n",
            "\n",
            "Confusion Matrix:  [[ 974    1    1    0    0    1    2    1    0    0]\n",
            " [   0 1133    2    0    0    0    0    0    0    0]\n",
            " [  10    9  996    2    0    0    0   13    2    0]\n",
            " [   0    2    4  976    1   13    1    7    3    3]\n",
            " [   1    6    0    0  950    0    4    2    0   19]\n",
            " [   6    1    0   11    2  859    5    1    3    4]\n",
            " [   5    3    0    0    3    3  944    0    0    0]\n",
            " [   0   21    5    0    1    0    0  991    0   10]\n",
            " [   8    2    4   16    8   11    3    4  914    4]\n",
            " [   4    5    2    8    9    2    1    8    2  968]]\n"
          ],
          "name": "stdout"
        }
      ]
    },
    {
      "cell_type": "code",
      "metadata": {
        "id": "vPIWPbkdh-P8",
        "colab_type": "code",
        "colab": {}
      },
      "source": [
        ""
      ],
      "execution_count": null,
      "outputs": []
    }
  ]
}