{
 "metadata": {
  "language_info": {
   "codemirror_mode": {
    "name": "ipython",
    "version": 3
   },
   "file_extension": ".py",
   "mimetype": "text/x-python",
   "name": "python",
   "nbconvert_exporter": "python",
   "pygments_lexer": "ipython3",
   "version": "3.7.7-final"
  },
  "orig_nbformat": 2,
  "kernelspec": {
   "name": "python_defaultSpec_1599418764048",
   "display_name": "Python 3.7.7 64-bit ('mlenv': conda)"
  }
 },
 "nbformat": 4,
 "nbformat_minor": 2,
 "cells": [
  {
   "cell_type": "markdown",
   "metadata": {},
   "source": [
    "# SVM Regressor on California Housing Dataset\n",
    "\n",
    "## Initialize"
   ]
  },
  {
   "cell_type": "code",
   "execution_count": 1,
   "metadata": {},
   "outputs": [],
   "source": [
    "# Common imports\n",
    "import numpy as np\n",
    "import os\n",
    "\n",
    "# to make this notebook's output stable across runs\n",
    "np.random.seed(2042)\n",
    "\n",
    "# To plot pretty figures\n",
    "%matplotlib inline\n",
    "import matplotlib as mpl\n",
    "import matplotlib.pyplot as plt\n",
    "\n",
    "# Where to save the figures\n",
    "PROJECT_ROOT_DIR = \".\"\n",
    "IMAGES_PATH = os.path.join(PROJECT_ROOT_DIR, \"images\")\n",
    "os.makedirs(IMAGES_PATH, exist_ok=True)\n"
   ]
  },
  {
   "cell_type": "markdown",
   "metadata": {},
   "source": [
    "## Fetch Data"
   ]
  },
  {
   "cell_type": "code",
   "execution_count": 2,
   "metadata": {},
   "outputs": [],
   "source": [
    "# Fetch data\n",
    "\n",
    "from sklearn.datasets import fetch_california_housing\n",
    "housing = fetch_california_housing()"
   ]
  },
  {
   "cell_type": "code",
   "execution_count": 3,
   "metadata": {},
   "outputs": [],
   "source": [
    "from sklearn.model_selection import train_test_split\n",
    "\n",
    "X = housing[\"data\"]\n",
    "y = housing[\"target\"]\n",
    "\n",
    "X_train, X_test, y_train, y_test = train_test_split(X, y, test_size=0.2, random_state=42)"
   ]
  },
  {
   "cell_type": "code",
   "execution_count": 4,
   "metadata": {},
   "outputs": [],
   "source": [
    "from sklearn.preprocessing import StandardScaler\n",
    "\n",
    "scaler = StandardScaler()\n",
    "X_train_scaled = scaler.fit_transform(X_train)\n",
    "X_test_scaled = scaler.transform(X_test)"
   ]
  },
  {
   "cell_type": "markdown",
   "metadata": {},
   "source": [
    "## Train Model"
   ]
  },
  {
   "cell_type": "code",
   "execution_count": 10,
   "metadata": {
    "tags": []
   },
   "outputs": [
    {
     "output_type": "stream",
     "name": "stdout",
     "text": "[1.94409478] [ 0.92556016  0.09033234 -0.38036534  0.42373828  0.01544221 -0.69464321\n -0.74794365 -0.74305756]\n"
    }
   ],
   "source": [
    "from sklearn.svm import LinearSVR\n",
    "\n",
    "lin_svr = LinearSVR(random_state=42)\n",
    "lin_svr.fit(X_train_scaled, y_train)         \n",
    "\n",
    "print(lin_svr.intercept_, lin_svr.coef_)"
   ]
  },
  {
   "cell_type": "code",
   "execution_count": null,
   "metadata": {},
   "outputs": [],
   "source": []
  },
  {
   "cell_type": "markdown",
   "metadata": {},
   "source": [
    "## Measure Performance"
   ]
  },
  {
   "cell_type": "code",
   "execution_count": 17,
   "metadata": {},
   "outputs": [
    {
     "output_type": "execute_result",
     "data": {
      "text/plain": "0.9641780189948642"
     },
     "metadata": {},
     "execution_count": 17
    }
   ],
   "source": [
    "from sklearn.metrics import mean_squared_error\n",
    "\n",
    "y_pred = lin_svr.predict(X_train_scaled)\n",
    "mse = mean_squared_error(y_train, y_pred)\n",
    "mse\n"
   ]
  },
  {
   "cell_type": "code",
   "execution_count": 18,
   "metadata": {
    "tags": []
   },
   "outputs": [
    {
     "output_type": "execute_result",
     "data": {
      "text/plain": "0.9819256687727764"
     },
     "metadata": {},
     "execution_count": 18
    }
   ],
   "source": [
    "np.sqrt(mse)"
   ]
  },
  {
   "cell_type": "markdown",
   "metadata": {},
   "source": [
    "## Optimize Model Parameters"
   ]
  },
  {
   "cell_type": "code",
   "execution_count": 19,
   "metadata": {
    "tags": []
   },
   "outputs": [
    {
     "output_type": "stream",
     "name": "stdout",
     "text": "Fitting 3 folds for each of 10 candidates, totalling 30 fits\n[CV] C=4.745401188473625, gamma=0.07969454818643928 ..................\n[Parallel(n_jobs=1)]: Using backend SequentialBackend with 1 concurrent workers.\n[CV] ... C=4.745401188473625, gamma=0.07969454818643928, total=   5.7s\n[CV] C=4.745401188473625, gamma=0.07969454818643928 ..................\n[Parallel(n_jobs=1)]: Done   1 out of   1 | elapsed:    5.6s remaining:    0.0s\n[CV] ... C=4.745401188473625, gamma=0.07969454818643928, total=   5.7s\n[CV] C=4.745401188473625, gamma=0.07969454818643928 ..................\n[CV] ... C=4.745401188473625, gamma=0.07969454818643928, total=   6.0s\n[CV] C=8.31993941811405, gamma=0.015751320499779724 ..................\n[CV] ... C=8.31993941811405, gamma=0.015751320499779724, total=   5.6s\n[CV] C=8.31993941811405, gamma=0.015751320499779724 ..................\n[CV] ... C=8.31993941811405, gamma=0.015751320499779724, total=   5.3s\n[CV] C=8.31993941811405, gamma=0.015751320499779724 ..................\n[CV] ... C=8.31993941811405, gamma=0.015751320499779724, total=   5.1s\n[CV] C=2.560186404424365, gamma=0.002051110418843397 .................\n[CV] .. C=2.560186404424365, gamma=0.002051110418843397, total=   4.8s\n[CV] C=2.560186404424365, gamma=0.002051110418843397 .................\n[CV] .. C=2.560186404424365, gamma=0.002051110418843397, total=   4.8s\n[CV] C=2.560186404424365, gamma=0.002051110418843397 .................\n[CV] .. C=2.560186404424365, gamma=0.002051110418843397, total=   4.6s\n[CV] C=1.5808361216819946, gamma=0.05399484409787431 .................\n[CV] .. C=1.5808361216819946, gamma=0.05399484409787431, total=   4.6s\n[CV] C=1.5808361216819946, gamma=0.05399484409787431 .................\n[CV] .. C=1.5808361216819946, gamma=0.05399484409787431, total=   4.6s\n[CV] C=1.5808361216819946, gamma=0.05399484409787431 .................\n[CV] .. C=1.5808361216819946, gamma=0.05399484409787431, total=   4.6s\n[CV] C=7.011150117432088, gamma=0.026070247583707663 .................\n[CV] .. C=7.011150117432088, gamma=0.026070247583707663, total=   5.1s\n[CV] C=7.011150117432088, gamma=0.026070247583707663 .................\n[CV] .. C=7.011150117432088, gamma=0.026070247583707663, total=   5.2s\n[CV] C=7.011150117432088, gamma=0.026070247583707663 .................\n[CV] .. C=7.011150117432088, gamma=0.026070247583707663, total=   5.2s\n[CV] C=1.2058449429580245, gamma=0.0870602087830485 ..................\n[CV] ... C=1.2058449429580245, gamma=0.0870602087830485, total=   4.6s\n[CV] C=1.2058449429580245, gamma=0.0870602087830485 ..................\n[CV] ... C=1.2058449429580245, gamma=0.0870602087830485, total=   4.6s\n[CV] C=1.2058449429580245, gamma=0.0870602087830485 ..................\n[CV] ... C=1.2058449429580245, gamma=0.0870602087830485, total=   4.6s\n[CV] C=9.324426408004218, gamma=0.0026587543983272693 ................\n[CV] . C=9.324426408004218, gamma=0.0026587543983272693, total=   4.8s\n[CV] C=9.324426408004218, gamma=0.0026587543983272693 ................\n[CV] . C=9.324426408004218, gamma=0.0026587543983272693, total=   4.7s\n[CV] C=9.324426408004218, gamma=0.0026587543983272693 ................\n[CV] . C=9.324426408004218, gamma=0.0026587543983272693, total=   4.9s\n[CV] C=2.818249672071006, gamma=0.0023270677083837795 ................\n[CV] . C=2.818249672071006, gamma=0.0023270677083837795, total=   4.6s\n[CV] C=2.818249672071006, gamma=0.0023270677083837795 ................\n[CV] . C=2.818249672071006, gamma=0.0023270677083837795, total=   4.6s\n[CV] C=2.818249672071006, gamma=0.0023270677083837795 ................\n[CV] . C=2.818249672071006, gamma=0.0023270677083837795, total=   4.6s\n[CV] C=4.042422429595377, gamma=0.011207606211860567 .................\n[CV] .. C=4.042422429595377, gamma=0.011207606211860567, total=   4.7s\n[CV] C=4.042422429595377, gamma=0.011207606211860567 .................\n[CV] .. C=4.042422429595377, gamma=0.011207606211860567, total=   4.7s\n[CV] C=4.042422429595377, gamma=0.011207606211860567 .................\n[CV] .. C=4.042422429595377, gamma=0.011207606211860567, total=   4.7s\n[CV] C=5.319450186421157, gamma=0.003823475224675185 .................\n[CV] .. C=5.319450186421157, gamma=0.003823475224675185, total=   4.6s\n[CV] C=5.319450186421157, gamma=0.003823475224675185 .................\n[CV] .. C=5.319450186421157, gamma=0.003823475224675185, total=   4.7s\n[CV] C=5.319450186421157, gamma=0.003823475224675185 .................\n[CV] .. C=5.319450186421157, gamma=0.003823475224675185, total=   4.7s\n[Parallel(n_jobs=1)]: Done  30 out of  30 | elapsed:  2.5min finished\n"
    },
    {
     "output_type": "execute_result",
     "data": {
      "text/plain": "RandomizedSearchCV(cv=3, estimator=SVR(),\n                   param_distributions={'C': <scipy.stats._distn_infrastructure.rv_frozen object at 0x0000014A0F394908>,\n                                        'gamma': <scipy.stats._distn_infrastructure.rv_frozen object at 0x0000014A0F394AC8>},\n                   random_state=42, verbose=2)"
     },
     "metadata": {},
     "execution_count": 19
    }
   ],
   "source": [
    "from sklearn.svm import SVR\n",
    "from sklearn.model_selection import RandomizedSearchCV\n",
    "from scipy.stats import reciprocal, uniform\n",
    "\n",
    "param_distributions = {\"gamma\": reciprocal(0.001, 0.1), \"C\": uniform(1, 10)}\n",
    "rnd_search_cv = RandomizedSearchCV(SVR(), param_distributions, n_iter=10, verbose=2, cv=3, random_state=42)\n",
    "rnd_search_cv.fit(X_train_scaled, y_train)"
   ]
  },
  {
   "cell_type": "code",
   "execution_count": 20,
   "metadata": {},
   "outputs": [
    {
     "output_type": "execute_result",
     "data": {
      "text/plain": "SVR(C=4.745401188473625, gamma=0.07969454818643928)"
     },
     "metadata": {},
     "execution_count": 20
    }
   ],
   "source": [
    "rnd_search_cv.best_estimator_"
   ]
  },
  {
   "cell_type": "code",
   "execution_count": 21,
   "metadata": {},
   "outputs": [
    {
     "output_type": "execute_result",
     "data": {
      "text/plain": "0.7382549678673653"
     },
     "metadata": {},
     "execution_count": 21
    }
   ],
   "source": [
    "rnd_search_cv.best_score_"
   ]
  },
  {
   "cell_type": "code",
   "execution_count": 22,
   "metadata": {
    "tags": []
   },
   "outputs": [
    {
     "output_type": "execute_result",
     "data": {
      "text/plain": "0.5727524770785357"
     },
     "metadata": {},
     "execution_count": 22
    }
   ],
   "source": [
    "y_pred = rnd_search_cv.best_estimator_.predict(X_train_scaled)\n",
    "mse = mean_squared_error(y_train, y_pred)\n",
    "np.sqrt(mse)"
   ]
  },
  {
   "cell_type": "code",
   "execution_count": 23,
   "metadata": {},
   "outputs": [
    {
     "output_type": "execute_result",
     "data": {
      "text/plain": "0.5929168385528746"
     },
     "metadata": {},
     "execution_count": 23
    }
   ],
   "source": [
    "y_pred = rnd_search_cv.best_estimator_.predict(X_test_scaled)\n",
    "mse = mean_squared_error(y_test, y_pred)\n",
    "np.sqrt(mse)"
   ]
  },
  {
   "cell_type": "code",
   "execution_count": null,
   "metadata": {},
   "outputs": [],
   "source": []
  }
 ]
}